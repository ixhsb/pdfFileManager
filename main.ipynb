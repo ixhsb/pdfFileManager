{
 "cells": [
  {
   "cell_type": "code",
   "execution_count": 1,
   "metadata": {},
   "outputs": [],
   "source": [
    "# Necessory Imports\n",
    "import os\n",
    "import re\n",
    "import sys\n",
    "\n",
    "# Inclides\n",
    "from rename_pdf_remove_special_chars import *"
   ]
  },
  {
   "cell_type": "code",
   "execution_count": 2,
   "metadata": {},
   "outputs": [
    {
     "name": "stdout",
     "output_type": "stream",
     "text": [
      "Renamed: 201016_Investigation_on_the_Transformer_Rectifier_Flux_Pump_for_High_Field_Magnets.pdf -> 201016 Investigation on the Transformer Rectifier Flux Pump for High Field Magnets.pdf\n",
      "Renamed: 240112_Characterization_of_HTS_Bifilar_Bridge_for_Self_Regulating_Flux_Pump_Experimental_and_Numerical_Study.pdf -> 240112 Characterization of HTS Bifilar Bridge for Self Regulating Flux Pump Experimental and Numerical Study.pdf\n"
     ]
    }
   ],
   "source": [
    "pdf_folder_path = r'c:\\Users\\hasee\\Desktop\\Work\\References\\pdfs\\NewFP'\n",
    "rename_pdfs_remove_special_chars(pdf_folder_path)"
   ]
  },
  {
   "cell_type": "code",
   "execution_count": 5,
   "metadata": {},
   "outputs": [
    {
     "name": "stdout",
     "output_type": "stream",
     "text": [
      "Starting to remove dates from PDF filenames...\n",
      "Renamed: 201016_Investigation_on_the_Transformer_Rectifier_Flux_Pump_for_High_Field_Magnets.pdf -> Investigation_on_the_Transformer_Rectifier_Flux_Pump_for_High_Field_Magnets.pdf\n",
      "Renamed: 240112_Characterization_of_HTS_Bifilar_Bridge_for_Self_Regulating_Flux_Pump_Experimental_and_Numerical_Study.pdf -> Characterization_of_HTS_Bifilar_Bridge_for_Self_Regulating_Flux_Pump_Experimental_and_Numerical_Study.pdf\n",
      "Finished removing dates from PDF filenames.\n",
      "Starting to remove special characters from PDF filenames...\n",
      "Finished removing special characters from PDF filenames.\n",
      "Starting to rename PDF filenames to lowercase except the first character...\n",
      "Renamed: Characterization_of_HTS_Bifilar_Bridge_for_Self_Regulating_Flux_Pump_Experimental_and_Numerical_Study.pdf -> Characterization_of_hts_bifilar_bridge_for_self_regulating_flux_pump_experimental_and_numerical_study.pdf\n",
      "Renamed: Investigation_on_the_Transformer_Rectifier_Flux_Pump_for_High_Field_Magnets.pdf -> Investigation_on_the_transformer_rectifier_flux_pump_for_high_field_magnets.pdf\n",
      "Finished renaming PDF filenames to lowercase except the first character.\n",
      "Starting to search PDF filenames in the browser...\n",
      "Searched: Characterization_of_hts_bifilar_bridge_for_self_regulating_flux_pump_experimental_and_numerical_study\n",
      "Searched: Investigation_on_the_transformer_rectifier_flux_pump_for_high_field_magnets\n",
      "Finished searching PDF filenames in the browser.\n"
     ]
    }
   ],
   "source": [
    "# Necessary Imports\n",
    "import os\n",
    "import re\n",
    "import sys\n",
    "import webbrowser\n",
    "\n",
    "# Add the directory containing the modules to the system path\n",
    "#sys.path.append(r'C:\\Users\\hasee\\Desktop\\Work\\TechDev\\pdfFileManager')\n",
    "\n",
    "# Includes\n",
    "from rename_pdf_remove_special_chars import rename_pdfs_remove_special_chars\n",
    "from rename_pdfs_remove_date import rename_pdfs_remove_date\n",
    "from rename_pdfs_to_lowercase_except_first import rename_pdfs_to_lowercase_except_first\n",
    "from search_pdf_names_in_browser import search_pdf_names_in_browser\n",
    "\n",
    "# Define the PDF folder path\n",
    "pdf_folder_path = r'c:\\Users\\hasee\\Desktop\\Work\\References\\pdfs\\NewFP'\n",
    "\n",
    "# Rename the PDF files\n",
    "print(\"Starting to remove dates from PDF filenames...\")\n",
    "rename_pdfs_remove_date(pdf_folder_path)\n",
    "print(\"Finished removing dates from PDF filenames.\")\n",
    "\n",
    "print(\"Starting to remove special characters from PDF filenames...\")\n",
    "#rename_pdfs_remove_special_chars(pdf_folder_path)\n",
    "print(\"Finished removing special characters from PDF filenames.\")\n",
    "\n",
    "print(\"Starting to rename PDF filenames to lowercase except the first character...\")\n",
    "rename_pdfs_to_lowercase_except_first(pdf_folder_path)\n",
    "print(\"Finished renaming PDF filenames to lowercase except the first character.\")\n",
    "\n",
    "# Search the PDF file names in the browser\n",
    "print(\"Starting to search PDF filenames in the browser...\")\n",
    "search_pdf_names_in_browser(pdf_folder_path)\n",
    "print(\"Finished searching PDF filenames in the browser.\")"
   ]
  }
 ],
 "metadata": {
  "kernelspec": {
   "display_name": "dataAnalysis",
   "language": "python",
   "name": "python3"
  },
  "language_info": {
   "codemirror_mode": {
    "name": "ipython",
    "version": 3
   },
   "file_extension": ".py",
   "mimetype": "text/x-python",
   "name": "python",
   "nbconvert_exporter": "python",
   "pygments_lexer": "ipython3",
   "version": "3.10.13"
  }
 },
 "nbformat": 4,
 "nbformat_minor": 2
}
