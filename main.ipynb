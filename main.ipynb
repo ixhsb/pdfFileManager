{
 "cells": [
  {
   "cell_type": "code",
   "execution_count": 2,
   "metadata": {},
   "outputs": [
    {
     "name": "stdout",
     "output_type": "stream",
     "text": [
      "Starting to remove dates from PDF filenames...\n",
      "Renamed: 211018_Characteristics of an HTS Pancake Coil in Persistent Current Mode Using Wind-and-Flip Winding Method.pdf -> Characteristics of an HTS Pancake Coil in Persistent Current Mode Using Wind-and-Flip Winding Method.pdf\n",
      "Renamed: 211201_Persistent Current Mode of a 1T Class HTS Pancake Coil for NMR MRI Applications.pdf -> Persistent Current Mode of a 1T Class HTS Pancake Coil for NMR MRI Applications.pdf\n",
      "Renamed: 211201_Study on the Persistent Current Switch in HTS Coils Wound with 2G Wire for Compact NMR Magnets.pdf -> Study on the Persistent Current Switch in HTS Coils Wound with 2G Wire for Compact NMR Magnets.pdf\n",
      "Renamed: 220212_A superconducting joint for GdBa2Cu3O7&minus;&delta;-coated conductors.pdf -> A superconducting joint for GdBa2Cu3O7&minus;&delta;-coated conductors.pdf\n",
      "Renamed: 220227_Analysis of charging and suddendischarging characteristics of no-insulation REBCO coil using an electromagnetic coupling model.pdf -> Analysis of charging and suddendischarging characteristics of no-insulation REBCO coil using an electromagnetic coupling model.pdf\n",
      "Finished removing dates from PDF filenames.\n",
      "Starting to remove special characters from PDF filenames...\n",
      "Renamed: A superconducting joint for GdBa2Cu3O7&minus;&delta;-coated conductors.pdf -> A superconducting joint for GdBa2Cu3O7&minus;&delta; coated conductors.pdf\n",
      "Renamed: Analysis of charging and suddendischarging characteristics of no-insulation REBCO coil using an electromagnetic coupling model.pdf -> Analysis of charging and suddendischarging characteristics of no insulation REBCO coil using an electromagnetic coupling model.pdf\n",
      "Renamed: Characteristics of an HTS Pancake Coil in Persistent Current Mode Using Wind-and-Flip Winding Method.pdf -> Characteristics of an HTS Pancake Coil in Persistent Current Mode Using Wind and Flip Winding Method.pdf\n",
      "Renamed: Persistent Current Mode of a 1T Class HTS Pancake Coil for NMR MRI Applications.pdf -> Persistent Current Mode of a 1T Class HTS Pancake Coil for NMR MRI Applications.pdf\n",
      "Renamed: Study on the Persistent Current Switch in HTS Coils Wound with 2G Wire for Compact NMR Magnets.pdf -> Study on the Persistent Current Switch in HTS Coils Wound with 2G Wire for Compact NMR Magnets.pdf\n",
      "Finished removing special characters from PDF filenames.\n",
      "Starting to rename PDF filenames to lowercase except the first character...\n",
      "Renamed: A superconducting joint for GdBa2Cu3O7&minus;&delta; coated conductors.pdf -> A superconducting joint for gdba2cu3o7&minus;&delta; coated conductors.pdf\n",
      "Renamed: Analysis of charging and suddendischarging characteristics of no insulation REBCO coil using an electromagnetic coupling model.pdf -> Analysis of charging and suddendischarging characteristics of no insulation rebco coil using an electromagnetic coupling model.pdf\n",
      "Renamed: Characteristics of an HTS Pancake Coil in Persistent Current Mode Using Wind and Flip Winding Method.pdf -> Characteristics of an hts pancake coil in persistent current mode using wind and flip winding method.pdf\n",
      "Renamed: Persistent Current Mode of a 1T Class HTS Pancake Coil for NMR MRI Applications.pdf -> Persistent current mode of a 1t class hts pancake coil for nmr mri applications.pdf\n",
      "Renamed: Study on the Persistent Current Switch in HTS Coils Wound with 2G Wire for Compact NMR Magnets.pdf -> Study on the persistent current switch in hts coils wound with 2g wire for compact nmr magnets.pdf\n",
      "Finished renaming PDF filenames to lowercase except the first character.\n",
      "Starting to search PDF filenames in the browser...\n",
      "Searched: A superconducting joint for gdba2cu3o7&minus;&delta; coated conductors\n",
      "Searched: Analysis of charging and suddendischarging characteristics of no insulation rebco coil using an electromagnetic coupling model\n",
      "Searched: Characteristics of an hts pancake coil in persistent current mode using wind and flip winding method\n",
      "Searched: Persistent current mode of a 1t class hts pancake coil for nmr mri applications\n",
      "Searched: Study on the persistent current switch in hts coils wound with 2g wire for compact nmr magnets\n",
      "Finished searching PDF filenames in the browser.\n"
     ]
    }
   ],
   "source": [
    "# Necessary Imports\n",
    "import os\n",
    "import re\n",
    "import sys\n",
    "import webbrowser\n",
    "\n",
    "# Add the directory containing the modules to the system path\n",
    "#sys.path.append(r'C:\\Users\\hasee\\Desktop\\Work\\TechDev\\pdfFileManager')\n",
    "\n",
    "# Includes\n",
    "from rename_pdf_remove_special_chars import rename_pdfs_remove_special_chars\n",
    "from rename_pdfs_remove_date import rename_pdfs_remove_date\n",
    "from rename_pdfs_to_lowercase_except_first import rename_pdfs_to_lowercase_except_first\n",
    "from search_pdf_names_in_browser import search_pdf_names_in_browser\n",
    "\n",
    "# Define the PDF folder path\n",
    "pdf_folder_path = r'C:\\Users\\hasee\\Desktop\\Work\\References\\pdfs\\temp'\n",
    "\n",
    "# Rename the PDF files\n",
    "print(\"Starting to remove dates from PDF filenames...\")\n",
    "rename_pdfs_remove_date(pdf_folder_path)\n",
    "print(\"Finished removing dates from PDF filenames.\")\n",
    "\n",
    "print(\"Starting to remove special characters from PDF filenames...\")\n",
    "rename_pdfs_remove_special_chars(pdf_folder_path)\n",
    "print(\"Finished removing special characters from PDF filenames.\")\n",
    "\n",
    "print(\"Starting to rename PDF filenames to lowercase except the first character...\")\n",
    "rename_pdfs_to_lowercase_except_first(pdf_folder_path)\n",
    "print(\"Finished renaming PDF filenames to lowercase except the first character.\")\n",
    "\n",
    "# Search the PDF file names in the browser\n",
    "print(\"Starting to search PDF filenames in the browser...\")\n",
    "search_pdf_names_in_browser(pdf_folder_path)\n",
    "print(\"Finished searching PDF filenames in the browser.\")"
   ]
  }
 ],
 "metadata": {
  "kernelspec": {
   "display_name": "dataAnalysis",
   "language": "python",
   "name": "python3"
  },
  "language_info": {
   "codemirror_mode": {
    "name": "ipython",
    "version": 3
   },
   "file_extension": ".py",
   "mimetype": "text/x-python",
   "name": "python",
   "nbconvert_exporter": "python",
   "pygments_lexer": "ipython3",
   "version": "3.10.13"
  }
 },
 "nbformat": 4,
 "nbformat_minor": 2
}
