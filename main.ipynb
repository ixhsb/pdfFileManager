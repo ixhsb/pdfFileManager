{
 "cells": [
  {
   "cell_type": "code",
   "execution_count": 1,
   "metadata": {},
   "outputs": [],
   "source": [
    "# Necessory Imports\n",
    "import os\n",
    "import re\n",
    "import sys\n",
    "\n",
    "# Inclides\n",
    "from rename_pdf_remove_special_chars import *"
   ]
  },
  {
   "cell_type": "code",
   "execution_count": 2,
   "metadata": {},
   "outputs": [
    {
     "name": "stdout",
     "output_type": "stream",
     "text": [
      "Renamed: 201016_Investigation_on_the_Transformer_Rectifier_Flux_Pump_for_High_Field_Magnets.pdf -> 201016 Investigation on the Transformer Rectifier Flux Pump for High Field Magnets.pdf\n",
      "Renamed: 240112_Characterization_of_HTS_Bifilar_Bridge_for_Self_Regulating_Flux_Pump_Experimental_and_Numerical_Study.pdf -> 240112 Characterization of HTS Bifilar Bridge for Self Regulating Flux Pump Experimental and Numerical Study.pdf\n"
     ]
    }
   ],
   "source": [
    "pdf_folder_path = r'c:\\Users\\hasee\\Desktop\\Work\\References\\pdfs\\NewFP'\n",
    "rename_pdfs_remove_special_chars(pdf_folder_path)"
   ]
  },
  {
   "cell_type": "code",
   "execution_count": null,
   "metadata": {},
   "outputs": [
    {
     "name": "stdout",
     "output_type": "stream",
     "text": [
      "Starting to remove dates from PDF filenames...\n",
      "Finished removing dates from PDF filenames.\n",
      "Starting to remove special characters from PDF filenames...\n",
      "Finished removing special characters from PDF filenames.\n",
      "Starting to rename PDF filenames to lowercase except the first character...\n"
     ]
    },
    {
     "ename": "NameError",
     "evalue": "name 'os' is not defined",
     "output_type": "error",
     "traceback": [
      "\u001b[1;31m---------------------------------------------------------------------------\u001b[0m",
      "\u001b[1;31mNameError\u001b[0m                                 Traceback (most recent call last)",
      "Cell \u001b[1;32mIn[3], line 29\u001b[0m\n\u001b[0;32m     26\u001b[0m \u001b[38;5;28mprint\u001b[39m(\u001b[38;5;124m\"\u001b[39m\u001b[38;5;124mFinished removing special characters from PDF filenames.\u001b[39m\u001b[38;5;124m\"\u001b[39m)\n\u001b[0;32m     28\u001b[0m \u001b[38;5;28mprint\u001b[39m(\u001b[38;5;124m\"\u001b[39m\u001b[38;5;124mStarting to rename PDF filenames to lowercase except the first character...\u001b[39m\u001b[38;5;124m\"\u001b[39m)\n\u001b[1;32m---> 29\u001b[0m \u001b[43mrename_pdfs_to_lowercase_except_first\u001b[49m\u001b[43m(\u001b[49m\u001b[43mpdf_folder_path\u001b[49m\u001b[43m)\u001b[49m\n\u001b[0;32m     30\u001b[0m \u001b[38;5;28mprint\u001b[39m(\u001b[38;5;124m\"\u001b[39m\u001b[38;5;124mFinished renaming PDF filenames to lowercase except the first character.\u001b[39m\u001b[38;5;124m\"\u001b[39m)\n\u001b[0;32m     32\u001b[0m \u001b[38;5;66;03m# Search the PDF file names in the browser\u001b[39;00m\n",
      "File \u001b[1;32mc:\\Users\\hasee\\Desktop\\Work\\TechDev\\pdfFileManager\\rename_pdfs_to_lowercase_except_first.py:6\u001b[0m, in \u001b[0;36mrename_pdfs_to_lowercase_except_first\u001b[1;34m(pdf_folder_path)\u001b[0m\n\u001b[0;32m      5\u001b[0m \u001b[38;5;28;01mdef\u001b[39;00m \u001b[38;5;21mrename_pdfs_to_lowercase_except_first\u001b[39m(pdf_folder_path):\n\u001b[1;32m----> 6\u001b[0m     \u001b[38;5;28;01mfor\u001b[39;00m filename \u001b[38;5;129;01min\u001b[39;00m \u001b[43mos\u001b[49m\u001b[38;5;241m.\u001b[39mlistdir(pdf_folder_path):\n\u001b[0;32m      7\u001b[0m         \u001b[38;5;28;01mif\u001b[39;00m filename\u001b[38;5;241m.\u001b[39mendswith(\u001b[38;5;124m'\u001b[39m\u001b[38;5;124m.pdf\u001b[39m\u001b[38;5;124m'\u001b[39m):\n\u001b[0;32m      8\u001b[0m             new_filename \u001b[38;5;241m=\u001b[39m filename[\u001b[38;5;241m0\u001b[39m] \u001b[38;5;241m+\u001b[39m filename[\u001b[38;5;241m1\u001b[39m:]\u001b[38;5;241m.\u001b[39mlower()\n",
      "\u001b[1;31mNameError\u001b[0m: name 'os' is not defined"
     ]
    }
   ],
   "source": [
    "# Necessary Imports\n",
    "import os\n",
    "import re\n",
    "import sys\n",
    "import webbrowser\n",
    "\n",
    "# Add the directory containing the modules to the system path\n",
    "#sys.path.append(r'C:\\Users\\hasee\\Desktop\\Work\\TechDev\\pdfFileManager')\n",
    "\n",
    "# Includes\n",
    "from rename_pdf_remove_special_chars import rename_pdfs_remove_special_chars\n",
    "from rename_pdfs_remove_date import rename_pdfs_remove_date\n",
    "from rename_pdfs_to_lowercase_except_first import rename_pdfs_to_lowercase_except_first\n",
    "from search_pdf_names_in_browser import search_pdf_names_in_browser\n",
    "\n",
    "# Define the PDF folder path\n",
    "pdf_folder_path = r'c:\\Users\\hasee\\Desktop\\Work\\References\\pdfs\\NewFP'\n",
    "\n",
    "# Rename the PDF files\n",
    "print(\"Starting to remove dates from PDF filenames...\")\n",
    "rename_pdfs_remove_date(pdf_folder_path)\n",
    "print(\"Finished removing dates from PDF filenames.\")\n",
    "\n",
    "print(\"Starting to remove special characters from PDF filenames...\")\n",
    "rename_pdfs_remove_special_chars(pdf_folder_path)\n",
    "print(\"Finished removing special characters from PDF filenames.\")\n",
    "\n",
    "print(\"Starting to rename PDF filenames to lowercase except the first character...\")\n",
    "rename_pdfs_to_lowercase_except_first(pdf_folder_path)\n",
    "print(\"Finished renaming PDF filenames to lowercase except the first character.\")\n",
    "\n",
    "# Search the PDF file names in the browser\n",
    "print(\"Starting to search PDF filenames in the browser...\")\n",
    "search_pdf_names_in_browser(pdf_folder_path)\n",
    "print(\"Finished searching PDF filenames in the browser.\")"
   ]
  }
 ],
 "metadata": {
  "kernelspec": {
   "display_name": "dataAnalysis",
   "language": "python",
   "name": "python3"
  },
  "language_info": {
   "codemirror_mode": {
    "name": "ipython",
    "version": 3
   },
   "file_extension": ".py",
   "mimetype": "text/x-python",
   "name": "python",
   "nbconvert_exporter": "python",
   "pygments_lexer": "ipython3",
   "version": "3.10.13"
  }
 },
 "nbformat": 4,
 "nbformat_minor": 2
}
