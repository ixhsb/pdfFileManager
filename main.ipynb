{
 "cells": [
  {
   "cell_type": "code",
   "execution_count": 1,
   "metadata": {},
   "outputs": [],
   "source": [
    "# Necessory Imports\n",
    "import os\n",
    "import re\n",
    "import sys\n",
    "\n",
    "# Inclides\n",
    "from rename_pdf_remove_special_chars import *"
   ]
  },
  {
   "cell_type": "code",
   "execution_count": 3,
   "metadata": {},
   "outputs": [
    {
     "name": "stdout",
     "output_type": "stream",
     "text": [
      "Renamed: 201016_Investigation_on_the_Transformer_Rectifier_Flux_Pump_for_High_Field_Magnets.pdf -> 201016 Investigation on the Transformer Rectifier Flux Pump for High Field Magnets.pdf\n",
      "Renamed: 240112_Characterization_of_HTS_Bifilar_Bridge_for_Self_Regulating_Flux_Pump_Experimental_and_Numerical_Study.pdf -> 240112 Characterization of HTS Bifilar Bridge for Self Regulating Flux Pump Experimental and Numerical Study.pdf\n"
     ]
    }
   ],
   "source": [
    "pdf_folder_path = r'c:\\Users\\hasee\\Desktop\\Work\\References\\pdfs\\NewFP'\n",
    "rename_pdfs_remove_special_chars(pdf_folder_path)"
   ]
  }
 ],
 "metadata": {
  "kernelspec": {
   "display_name": "dataAnalysis",
   "language": "python",
   "name": "python3"
  },
  "language_info": {
   "codemirror_mode": {
    "name": "ipython",
    "version": 3
   },
   "file_extension": ".py",
   "mimetype": "text/x-python",
   "name": "python",
   "nbconvert_exporter": "python",
   "pygments_lexer": "ipython3",
   "version": "3.10.13"
  }
 },
 "nbformat": 4,
 "nbformat_minor": 2
}
