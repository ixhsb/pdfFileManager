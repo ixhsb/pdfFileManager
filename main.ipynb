{
 "cells": [
  {
   "cell_type": "code",
   "execution_count": 4,
   "metadata": {},
   "outputs": [
    {
     "name": "stdout",
     "output_type": "stream",
     "text": [
      "Starting to remove dates from PDF filenames...\n",
      "Renamed: 220424Modelling of various rectifier flux pump topologies enabled by JcB switches.pdf -> 220424Modelling of various rectifier flux pump topologies enabled by JcB switches.pdf\n",
      "Renamed: 220424_Design Parameters for an HTS Flux Pump.pdf -> Design Parameters for an HTS Flux Pump.pdf\n",
      "Renamed: 220424_FLUX PUMPS AS POWER SUPPLIES IN COMPARISON wm ALTERNATIVE.pdf -> FLUX PUMPS AS POWER SUPPLIES IN COMPARISON wm ALTERNATIVE.pdf\n",
      "Renamed: 220424_Heat loss analysis-based design of a 12 MW wind power generator module having an HTS flux pump exciter.pdf -> Heat loss analysis-based design of a 12 MW wind power generator module having an HTS flux pump exciter.pdf\n",
      "Renamed: 220424_Thermal Analysis of a Flux Pump With Simplified Conduction-Cooled Superconducting Magnet Model.pdf -> Thermal Analysis of a Flux Pump With Simplified Conduction-Cooled Superconducting Magnet Model.pdf\n",
      "Finished removing dates from PDF filenames.\n",
      "Starting to remove special characters from PDF filenames...\n",
      "Renamed: 220424Modelling of various rectifier flux pump topologies enabled by JcB switches.pdf -> 220424Modelling of various rectifier flux pump topologies enabled by JcB switches.pdf\n",
      "Renamed: Design Parameters for an HTS Flux Pump.pdf -> Design Parameters for an HTS Flux Pump.pdf\n",
      "Renamed: FLUX PUMPS AS POWER SUPPLIES IN COMPARISON wm ALTERNATIVE.pdf -> FLUX PUMPS AS POWER SUPPLIES IN COMPARISON wm ALTERNATIVE.pdf\n",
      "Renamed: Heat loss analysis-based design of a 12 MW wind power generator module having an HTS flux pump exciter.pdf -> Heat loss analysis based design of a 12 MW wind power generator module having an HTS flux pump exciter.pdf\n",
      "Renamed: Thermal Analysis of a Flux Pump With Simplified Conduction-Cooled Superconducting Magnet Model.pdf -> Thermal Analysis of a Flux Pump With Simplified Conduction Cooled Superconducting Magnet Model.pdf\n",
      "Finished removing special characters from PDF filenames.\n",
      "Starting to rename PDF filenames to lowercase except the first character...\n",
      "Renamed: 220424Modelling of various rectifier flux pump topologies enabled by JcB switches.pdf -> 220424modelling of various rectifier flux pump topologies enabled by jcb switches.pdf\n",
      "Renamed: Design Parameters for an HTS Flux Pump.pdf -> Design parameters for an hts flux pump.pdf\n",
      "Renamed: FLUX PUMPS AS POWER SUPPLIES IN COMPARISON wm ALTERNATIVE.pdf -> Flux pumps as power supplies in comparison wm alternative.pdf\n",
      "Renamed: Heat loss analysis based design of a 12 MW wind power generator module having an HTS flux pump exciter.pdf -> Heat loss analysis based design of a 12 mw wind power generator module having an hts flux pump exciter.pdf\n",
      "Renamed: Thermal Analysis of a Flux Pump With Simplified Conduction Cooled Superconducting Magnet Model.pdf -> Thermal analysis of a flux pump with simplified conduction cooled superconducting magnet model.pdf\n",
      "Finished renaming PDF filenames to lowercase except the first character.\n",
      "Starting to search PDF filenames in the browser...\n",
      "Searched: 220424modelling of various rectifier flux pump topologies enabled by jcb switches\n",
      "Searched: Design parameters for an hts flux pump\n",
      "Searched: Flux pumps as power supplies in comparison wm alternative\n",
      "Searched: Heat loss analysis based design of a 12 mw wind power generator module having an hts flux pump exciter\n",
      "Searched: Thermal analysis of a flux pump with simplified conduction cooled superconducting magnet model\n",
      "Finished searching PDF filenames in the browser.\n"
     ]
    }
   ],
   "source": [
    "# Necessary Imports\n",
    "import os\n",
    "import re\n",
    "import sys\n",
    "import webbrowser\n",
    "\n",
    "# Add the directory containing the modules to the system path\n",
    "#sys.path.append(r'C:\\Users\\hasee\\Desktop\\Work\\TechDev\\pdfFileManager')\n",
    "\n",
    "# Includes\n",
    "from rename_pdf_remove_special_chars import rename_pdfs_remove_special_chars\n",
    "from rename_pdfs_remove_date import rename_pdfs_remove_date\n",
    "from rename_pdfs_to_lowercase_except_first import rename_pdfs_to_lowercase_except_first\n",
    "from search_pdf_names_in_browser import search_pdf_names_in_browser\n",
    "\n",
    "# Define the PDF folder path\n",
    "pdf_folder_path = r'c:\\Users\\hasee\\Desktop\\Work\\References\\pdfs\\HeatLosses'\n",
    "\n",
    "# Rename the PDF files\n",
    "print(\"Starting to remove dates from PDF filenames...\")\n",
    "rename_pdfs_remove_date(pdf_folder_path)\n",
    "print(\"Finished removing dates from PDF filenames.\")\n",
    "\n",
    "print(\"Starting to remove special characters from PDF filenames...\")\n",
    "rename_pdfs_remove_special_chars(pdf_folder_path)\n",
    "print(\"Finished removing special characters from PDF filenames.\")\n",
    "\n",
    "print(\"Starting to rename PDF filenames to lowercase except the first character...\")\n",
    "rename_pdfs_to_lowercase_except_first(pdf_folder_path)\n",
    "print(\"Finished renaming PDF filenames to lowercase except the first character.\")\n",
    "\n",
    "# Search the PDF file names in the browser\n",
    "print(\"Starting to search PDF filenames in the browser...\")\n",
    "search_pdf_names_in_browser(pdf_folder_path)\n",
    "print(\"Finished searching PDF filenames in the browser.\")"
   ]
  }
 ],
 "metadata": {
  "kernelspec": {
   "display_name": "dataAnalysis",
   "language": "python",
   "name": "python3"
  },
  "language_info": {
   "codemirror_mode": {
    "name": "ipython",
    "version": 3
   },
   "file_extension": ".py",
   "mimetype": "text/x-python",
   "name": "python",
   "nbconvert_exporter": "python",
   "pygments_lexer": "ipython3",
   "version": "3.10.13"
  }
 },
 "nbformat": 4,
 "nbformat_minor": 2
}
