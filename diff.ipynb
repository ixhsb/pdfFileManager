{
 "cells": [
  {
   "cell_type": "code",
   "execution_count": 1,
   "metadata": {},
   "outputs": [
    {
     "name": "stdout",
     "output_type": "stream",
     "text": [
      "Missing files in the bibliography:\n",
      "Investigation on the transformerrectifier flux pump for high field magnets.pdf\n",
      "\n",
      "Extra files in the folder:\n",
      "Generation of a dc voltage by an ac magnetic eld in typeii superconductors.pdf\n",
      "Investigation on the transformer rectifier flux pump for high field magnets.pdf\n"
     ]
    }
   ],
   "source": [
    "import os\n",
    "import re\n",
    "\n",
    "# Define the paths\n",
    "bib_file_path = r'C:\\Users\\hasee\\Desktop\\Work\\References\\References.bib'\n",
    "pdf_folder_path = r'C:\\Users\\hasee\\Desktop\\Work\\References\\pdfs\\FluxPumps'\n",
    "\n",
    "# Function to extract file names from the .bib file\n",
    "def extract_bib_filenames(bib_file_path):\n",
    "    bib_filenames = []\n",
    "    with open(bib_file_path, 'r', encoding='utf-8') as bib_file:\n",
    "        for line in bib_file:\n",
    "            match = re.search(r'file\\s*=\\s*{[^:]*:pdfs/FluxPumps/(.*?\\.pdf):PDF}', line)\n",
    "            if match:\n",
    "                bib_filenames.append(match.group(1))\n",
    "    return bib_filenames\n",
    "\n",
    "# Function to get the list of PDF files in the folder\n",
    "def get_pdf_filenames(pdf_folder_path):\n",
    "    pdf_filenames = [f for f in os.listdir(pdf_folder_path) if f.endswith('.pdf')]\n",
    "    return pdf_filenames\n",
    "\n",
    "# Extract file names from the .bib file\n",
    "bib_filenames = extract_bib_filenames(bib_file_path)\n",
    "\n",
    "# Get the list of PDF files in the folder\n",
    "pdf_filenames = get_pdf_filenames(pdf_folder_path)\n",
    "\n",
    "# Find missing files in the bibliography\n",
    "missing_files = [f for f in bib_filenames if f not in pdf_filenames]\n",
    "\n",
    "# Find extra files in the folder\n",
    "extra_files = [f for f in pdf_filenames if f not in bib_filenames]\n",
    "\n",
    "# Print the results\n",
    "print(\"Missing files in the bibliography:\")\n",
    "for file in missing_files:\n",
    "    print(file)\n",
    "\n",
    "print(\"\\nExtra files in the folder:\")\n",
    "for file in extra_files:\n",
    "    print(file)"
   ]
  }
 ],
 "metadata": {
  "kernelspec": {
   "display_name": "dataAnalysis",
   "language": "python",
   "name": "python3"
  },
  "language_info": {
   "codemirror_mode": {
    "name": "ipython",
    "version": 3
   },
   "file_extension": ".py",
   "mimetype": "text/x-python",
   "name": "python",
   "nbconvert_exporter": "python",
   "pygments_lexer": "ipython3",
   "version": "3.10.13"
  }
 },
 "nbformat": 4,
 "nbformat_minor": 2
}
